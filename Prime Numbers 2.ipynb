n = 100
prime_list = []
for i in range(1,n+1):
    count = 0
    for a in range(1,i+1):
        if i % a == 0:
            count += 1
    if count == 2 :
        prime_list.append(i)
print(prime_list)
